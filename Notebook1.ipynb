{
 "cells": [
  {
   "cell_type": "markdown",
   "metadata": {},
   "source": [
    "# ETRUCTURA DE DATOS Y ANALISIS DE ALGORITMOS\n",
    "# Ordenamiento topologico de un grafo\n",
    "\n",
    "## Librerias"
   ]
  },
  {
   "cell_type": "code",
   "execution_count": 155,
   "metadata": {},
   "outputs": [],
   "source": [
    "import math\n",
    "import matplotlib.pyplot as plt\n",
    "import networkx as nx"
   ]
  },
  {
   "cell_type": "markdown",
   "metadata": {},
   "source": [
    "## Estructuras de datos iniciales"
   ]
  },
  {
   "cell_type": "code",
   "execution_count": 171,
   "metadata": {},
   "outputs": [],
   "source": [
    "grafo = {\n",
    "    6 : {4,5},\n",
    "    5 : {},\n",
    "    4 : {5},\n",
    "    3 : {5},\n",
    "    2 : {3 , 4},\n",
    "    1 : {2 , 3 , 6}\n",
    "}\n",
    "\n",
    "# muestra [1, 2, 3, 4, 6, 5]"
   ]
  },
  {
   "cell_type": "code",
   "execution_count": 172,
   "metadata": {},
   "outputs": [],
   "source": [
    "grafo = {\n",
    "    1 : {2 , 3 , 6},\n",
    "    2 : {3 , 4},\n",
    "    3 : {5},\n",
    "    4 : {5},\n",
    "    5 : {},\n",
    "    6 : {4,5}\n",
    "}\n",
    "\n",
    "# muestra  [1, 6, 2, 4, 3, 5]"
   ]
  },
  {
   "cell_type": "markdown",
   "metadata": {},
   "source": [
    "## Implementacion del algoritmo"
   ]
  },
  {
   "cell_type": "code",
   "execution_count": 173,
   "metadata": {},
   "outputs": [],
   "source": [
    "def visitar(u,estado,lista):\n",
    "    estado[u] = True\n",
    "    for v in grafo[u]:\n",
    "        if(estado[v] == False):\n",
    "            visitar(v,estado,lista)\n",
    "    estado[u] = -1\n",
    "    lista.insert(0,u)"
   ]
  },
  {
   "cell_type": "code",
   "execution_count": 174,
   "metadata": {},
   "outputs": [],
   "source": [
    "def ordenamiento_topologico(grafo, lista):\n",
    "    estado = {}\n",
    "    for u in grafo:\n",
    "        estado[u] = False\n",
    "    for u in grafo:\n",
    "        if( estado[u] == False):\n",
    "            visitar(u,estado,lista)"
   ]
  },
  {
   "cell_type": "markdown",
   "metadata": {},
   "source": [
    "## Representacion del grafo"
   ]
  },
  {
   "cell_type": "code",
   "execution_count": 175,
   "metadata": {},
   "outputs": [],
   "source": [
    "G = nx.DiGraph()\n",
    "\n",
    "for i in grafo:\n",
    "    x = grafo[i]\n",
    "    for j in x:\n",
    "        G.add_edge(i,j)"
   ]
  },
  {
   "cell_type": "code",
   "execution_count": 185,
   "metadata": {},
   "outputs": [
    {
     "data": {
      "image/png": "[encoded data removed]",
      "text/plain": [
       "<Figure size 576x576 with 1 Axes>"
      ]
     },
     "metadata": {},
     "output_type": "display_data"
    }
   ],
   "source": [
    "\n",
    "\n",
    "dict = {\n",
    "    1 : (0,1),\n",
    "    2 : (0.8,1),\n",
    "    3 : (0.8,0),\n",
    "    4 : (1.6,1),\n",
    "    5 : (2,0),\n",
    "    6 : (2,2)\n",
    "}\n",
    "\n",
    "pos = dict\n",
    "\n",
    "plt.figure(figsize = (8,8))\n",
    "nx.draw_networkx_edges(G, pos, node_size=1800, width=2, arrowsize=25)\n",
    "nx.draw_networkx_nodes(G, pos, node_size=1800, node_color =  (0, 0.6, 1))\n",
    "nx.draw_networkx_labels(G, pos, font_size=20, font_family='sans-serif')\n",
    "plt.axis(\"off\")\n",
    "plt.show()"
   ]
  },
  {
   "cell_type": "markdown",
   "metadata": {},
   "source": [
    "## Ejecucion del algoritmo"
   ]
  },
  {
   "cell_type": "code",
   "execution_count": 177,
   "metadata": {},
   "outputs": [
    {
     "name": "stdout",
     "output_type": "stream",
     "text": [
      "El ordenamiento topologico del grado es:  [1, 6, 2, 4, 3, 5]\n"
     ]
    }
   ],
   "source": [
    "lista = []\n",
    "ordenamiento_topologico(grafo,lista)\n",
    "print(\"El ordenamiento topologico del grado es: \",lista)"
   ]
  },
  {
   "cell_type": "code",
   "execution_count": null,
   "metadata": {},
   "outputs": [],
   "source": []
  }
 ],
 "metadata": {
  "kernelspec": {
   "display_name": "Python 3",
   "language": "python",
   "name": "python3"
  },
  "language_info": {
   "codemirror_mode": {
    "name": "ipython",
    "version": 3
   },
   "file_extension": ".py",
   "mimetype": "text/x-python",
   "name": "python",
   "nbconvert_exporter": "python",
   "pygments_lexer": "ipython3",
   "version": "3.6.5"
  }
 },
 "nbformat": 4,
 "nbformat_minor": 2
}
